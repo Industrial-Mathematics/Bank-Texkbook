{
 "cells": [
  {
   "cell_type": "code",
   "execution_count": null,
   "metadata": {},
   "outputs": [],
   "source": [
    "# 엑셀 파일을 읽고 쓰기위한 파이선 라이브러리를 다운로드\n",
    "!pip install xlrd openpyxl"
   ]
  },
  {
   "cell_type": "code",
   "execution_count": null,
   "metadata": {},
   "outputs": [],
   "source": [
    "import pandas as pd\n",
    "\n",
    "# 데이터 원본을 읽어들인다\n",
    "df = pd.read_excel('data/bank_original.xlsx')\n"
   ]
  },
  {
   "cell_type": "markdown",
   "metadata": {},
   "source": [
    "# 전처리\n",
    "\n",
    "- `해외거주여부`,`신규고객(6개월이내)` 열 Y는 1로, N은 0으로 변경\n",
    "- `성별` 남은 1로, 여는 0으로 변경"
   ]
  },
  {
   "cell_type": "code",
   "execution_count": null,
   "metadata": {},
   "outputs": [],
   "source": [
    "df.loc[df['해외 거주 여부'] == 'Y', '해외 거주 여부'] = 1\n",
    "df.loc[df['해외 거주 여부'] == 'N', '해외 거주 여부'] = 0\n",
    "df.loc[df['성별'] == '남', '성별'] = 1\n",
    "df.loc[df['성별'] == '여', '성별'] = 0\n",
    "df.loc[df['신규 고객(6개월 이내)'] == 'Y', '신규 고객(6개월 이내)'] = 1\n",
    "df.loc[df['신규 고객(6개월 이내)'] == 'N', '신규 고객(6개월 이내)'] = 0"
   ]
  },
  {
   "cell_type": "code",
   "execution_count": null,
   "metadata": {},
   "outputs": [],
   "source": [
    "# 전처리를 완료한 데이터를 저장\n",
    "df.to_excel('data/bank_pre.xlsx', index=False)"
   ]
  }
 ],
 "metadata": {
  "interpreter": {
   "hash": "84b5861a0800ed8dce78bce7a5ad5aa04ad221c7b587987129677acd3ece6f17"
  },
  "kernelspec": {
   "display_name": "Python 3 (ipykernel)",
   "language": "python",
   "name": "python3"
  },
  "language_info": {
   "codemirror_mode": {
    "name": "ipython",
    "version": 3
   },
   "file_extension": ".py",
   "mimetype": "text/x-python",
   "name": "python",
   "nbconvert_exporter": "python",
   "pygments_lexer": "ipython3",
   "version": "3.8.12"
  }
 },
 "nbformat": 4,
 "nbformat_minor": 2
}
