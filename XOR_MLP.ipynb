{
 "cells": [
  {
   "cell_type": "code",
   "execution_count": null,
   "metadata": {},
   "outputs": [],
   "source": [
    "!pip install scikit-learn"
   ]
  },
  {
   "cell_type": "code",
   "execution_count": null,
   "metadata": {},
   "outputs": [],
   "source": [
    "import numpy as np\n",
    "\n",
    "X_XOR = np.array([\n",
    "    [0,0],\n",
    "    [1,0],\n",
    "    [0,1],\n",
    "    [1,1]\n",
    "])\n",
    "\n",
    "y_XOR = np.array([\n",
    "    0,\n",
    "    1,\n",
    "    1,\n",
    "    0\n",
    "])"
   ]
  },
  {
   "cell_type": "code",
   "execution_count": null,
   "metadata": {},
   "outputs": [],
   "source": [
    "from sklearn.neural_network import MLPClassifier\n",
    "\n",
    "clf = MLPClassifier(hidden_layer_sizes=(2,), \n",
    "                    max_iter=3000)\n",
    "clf.fit(X_XOR, y_XOR)\n",
    "\n",
    "print(\"w = %s\" %(clf.coefs_))\n",
    "print(\"accuracy = %s\" %(clf.score(X_XOR, y_XOR)))"
   ]
  },
  {
   "cell_type": "code",
   "execution_count": null,
   "metadata": {},
   "outputs": [],
   "source": [
    "import matplotlib.pyplot as plt\n",
    "import itertools\n",
    "\n",
    "grid_iter = itertools.product(np.linspace(0, 1, 20), \n",
    "                              np.linspace(0, 1, 20))\n",
    "grid = np.array(list(grid_iter))\n",
    "\n",
    "\n",
    "pred = clf.predict(grid)\n",
    "\n",
    "\n",
    "plt.scatter(grid[:, 0], grid[:, 1], \n",
    "            c = pred, s = 1, \n",
    "            cmap=plt.cm.get_cmap('Greys', 2))\n",
    "\n",
    "plt.colorbar(ticks=range(2), \n",
    "             format='color: %d', \n",
    "             label='color')\n",
    "\n",
    "plt.scatter(X_XOR[:, 0], X_XOR[:, 1], \n",
    "            c = y_XOR, s = 500, \n",
    "            cmap=plt.cm.get_cmap('Greys', 2), \n",
    "            edgecolors='black')\n",
    "\n",
    "plt.show()"
   ]
  }
 ],
 "metadata": {
  "kernelspec": {
   "display_name": "Python 3 (ipykernel)",
   "language": "python",
   "name": "python3"
  },
  "language_info": {
   "codemirror_mode": {
    "name": "ipython",
    "version": 3
   },
   "file_extension": ".py",
   "mimetype": "text/x-python",
   "name": "python",
   "nbconvert_exporter": "python",
   "pygments_lexer": "ipython3",
   "version": "3.8.12"
  }
 },
 "nbformat": 4,
 "nbformat_minor": 2
}
